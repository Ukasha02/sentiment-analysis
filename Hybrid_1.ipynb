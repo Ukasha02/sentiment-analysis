{
  "nbformat": 4,
  "nbformat_minor": 0,
  "metadata": {
    "colab": {
      "provenance": [],
      "gpuType": "T4"
    },
    "kernelspec": {
      "name": "python3",
      "display_name": "Python 3"
    },
    "language_info": {
      "name": "python"
    },
    "accelerator": "GPU"
  },
  "cells": [
    {
      "cell_type": "code",
      "source": [
        "!pip install vaderSentiment\n"
      ],
      "metadata": {
        "colab": {
          "base_uri": "https://localhost:8080/"
        },
        "id": "6SV6GBD6F0J6",
        "outputId": "b665e521-b79e-4685-f730-9cee9350ae31"
      },
      "execution_count": 8,
      "outputs": [
        {
          "output_type": "stream",
          "name": "stdout",
          "text": [
            "Requirement already satisfied: vaderSentiment in /usr/local/lib/python3.10/dist-packages (3.3.2)\n",
            "Requirement already satisfied: requests in /usr/local/lib/python3.10/dist-packages (from vaderSentiment) (2.31.0)\n",
            "Requirement already satisfied: charset-normalizer<4,>=2 in /usr/local/lib/python3.10/dist-packages (from requests->vaderSentiment) (3.3.2)\n",
            "Requirement already satisfied: idna<4,>=2.5 in /usr/local/lib/python3.10/dist-packages (from requests->vaderSentiment) (3.6)\n",
            "Requirement already satisfied: urllib3<3,>=1.21.1 in /usr/local/lib/python3.10/dist-packages (from requests->vaderSentiment) (2.0.7)\n",
            "Requirement already satisfied: certifi>=2017.4.17 in /usr/local/lib/python3.10/dist-packages (from requests->vaderSentiment) (2024.2.2)\n"
          ]
        }
      ]
    },
    {
      "cell_type": "code",
      "execution_count": 10,
      "metadata": {
        "id": "rLfqFNbOEC_Y"
      },
      "outputs": [],
      "source": [
        "# Required Libraries\n",
        "import pandas as pd\n",
        "import numpy as np\n",
        "from sklearn.model_selection import train_test_split\n",
        "from gensim.models import Word2Vec\n",
        "from sklearn.ensemble import RandomForestClassifier\n",
        "from sklearn.metrics import accuracy_score, classification_report\n",
        "from sklearn.pipeline import Pipeline\n",
        "from sklearn.preprocessing import StandardScaler\n",
        "from vaderSentiment.vaderSentiment import SentimentIntensityAnalyzer\n",
        "import re\n",
        "import nltk\n",
        "from nltk.corpus import stopwords\n",
        "import time\n"
      ]
    },
    {
      "cell_type": "code",
      "source": [
        "# Download necessary NLTK data\n",
        "nltk.download('stopwords')"
      ],
      "metadata": {
        "colab": {
          "base_uri": "https://localhost:8080/"
        },
        "id": "it8STIjXE3JP",
        "outputId": "9064f0ee-fb1b-4eac-9890-a93acf848644"
      },
      "execution_count": 11,
      "outputs": [
        {
          "output_type": "stream",
          "name": "stderr",
          "text": [
            "[nltk_data] Downloading package stopwords to /root/nltk_data...\n",
            "[nltk_data]   Package stopwords is already up-to-date!\n"
          ]
        },
        {
          "output_type": "execute_result",
          "data": {
            "text/plain": [
              "True"
            ]
          },
          "metadata": {},
          "execution_count": 11
        }
      ]
    },
    {
      "cell_type": "code",
      "source": [
        "# Data Preprocessing for Word Embeddings\n",
        "def preprocess_text_for_embedding(text):\n",
        "    text = text.lower()\n",
        "    text = re.sub(r'\\W', ' ', text)\n",
        "    text = re.sub(r'\\s+', ' ', text).strip()\n",
        "    tokens = text.split()\n",
        "    filtered_tokens = [token for token in tokens if token not in stopwords.words('english')]\n",
        "    return filtered_tokens"
      ],
      "metadata": {
        "id": "sLmzWszuE6eZ"
      },
      "execution_count": 12,
      "outputs": []
    },
    {
      "cell_type": "code",
      "source": [
        "# Assuming 'data.csv' is your dataset file with columns ['review', 'sentiment']\n",
        "train_df = pd.read_csv('/content/train.csv')\n",
        "test_df = pd.read_csv('/content/test.csv')"
      ],
      "metadata": {
        "id": "YvaTnzESE9DB"
      },
      "execution_count": 14,
      "outputs": []
    },
    {
      "cell_type": "code",
      "source": [
        "# Preprocess reviews for embeddings\n",
        "train_df['tokens'] = train_df['review'].apply(preprocess_text_for_embedding)\n",
        "test_df['tokens'] = test_df['review'].apply(preprocess_text_for_embedding)\n"
      ],
      "metadata": {
        "id": "YZSUIFkQE_Rq"
      },
      "execution_count": 15,
      "outputs": []
    },
    {
      "cell_type": "code",
      "source": [
        "# Initialize VADER\n",
        "analyzer = SentimentIntensityAnalyzer()\n"
      ],
      "metadata": {
        "id": "FaiAtfQOSZj8"
      },
      "execution_count": 17,
      "outputs": []
    },
    {
      "cell_type": "code",
      "source": [
        "# Apply VADER to get sentiment scores for both datasets\n",
        "train_df['vader_score'] = train_df['tokens'].apply(lambda tokens: analyzer.polarity_scores(' '.join(tokens))['compound'])\n",
        "test_df['vader_score'] = test_df['tokens'].apply(lambda tokens: analyzer.polarity_scores(' '.join(tokens))['compound'])\n"
      ],
      "metadata": {
        "id": "__oJzLSsFBVX"
      },
      "execution_count": 18,
      "outputs": []
    },
    {
      "cell_type": "code",
      "source": [
        "# Train Word2Vec model or load a pre-trained model\n",
        "word2vec_model = Word2Vec(sentences=train_df['tokens'], vector_size=300, window=8, min_count=5, workers=4, sg=1, epochs=20)\n",
        "\n",
        "# Function to vectorize a list of tokens using the Word2Vec model\n",
        "def document_vector(word2vec_model, doc):\n",
        "    # remove out-of-vocabulary words\n",
        "    doc = [word for word in doc if word in word2vec_model.wv.index_to_key]\n",
        "    if not doc:\n",
        "        return np.zeros(word2vec_model.vector_size)\n",
        "    return np.mean(word2vec_model.wv[doc], axis=0)\n",
        "\n",
        "\n",
        "# Vectorize the tokens for each review\n",
        "X_train_embeddings = np.array([document_vector(word2vec_model, words) for words in train_df['tokens']])\n",
        "X_test_embeddings = np.array([document_vector(word2vec_model, words) for words in test_df['tokens']])\n",
        "\n"
      ],
      "metadata": {
        "id": "xZOmNaxmFDL_"
      },
      "execution_count": 19,
      "outputs": []
    },
    {
      "cell_type": "code",
      "source": [
        "# Add VADER scores as a feature\n",
        "X_train_vader = train_df['vader_score'].values.reshape(-1, 1)\n",
        "X_test_vader = test_df['vader_score'].values.reshape(-1, 1)\n",
        "\n",
        "# Combine Word Embeddings with VADER scores\n",
        "X_train_combined = np.hstack((X_train_embeddings, X_train_vader))\n",
        "X_test_combined = np.hstack((X_test_embeddings, X_test_vader))\n"
      ],
      "metadata": {
        "id": "jjDKPzv_FFzi"
      },
      "execution_count": 20,
      "outputs": []
    },
    {
      "cell_type": "code",
      "source": [
        "# Prepare labels\n",
        "y_train = train_df['sentiment']\n",
        "y_test = test_df['sentiment']\n"
      ],
      "metadata": {
        "id": "_Yj3JerwFIk6"
      },
      "execution_count": 21,
      "outputs": []
    },
    {
      "cell_type": "code",
      "source": [
        "from sklearn.preprocessing import LabelEncoder\n",
        "\n",
        "# Initialize LabelEncoder\n",
        "label_encoder = LabelEncoder()\n",
        "\n",
        "# Fit LabelEncoder on the target labels\n",
        "label_encoder.fit(y_train)\n",
        "\n",
        "# Transform the target labels to numerical values\n",
        "y_train_encoded = label_encoder.transform(y_train)"
      ],
      "metadata": {
        "id": "NP5ZTtCLeE-O"
      },
      "execution_count": 23,
      "outputs": []
    },
    {
      "cell_type": "code",
      "source": [
        "# Transform the true labels to numerical values\n",
        "y_test_encoded = label_encoder.transform(y_test)\n"
      ],
      "metadata": {
        "id": "k2BV3hBoenQw"
      },
      "execution_count": 25,
      "outputs": []
    },
    {
      "cell_type": "code",
      "source": [
        "# Train the model on the training set\n",
        "from xgboost import XGBClassifier\n",
        "model = XGBClassifier()\n",
        "model.fit(X_train_combined, y_train_encoded)\n",
        "\n",
        "# Start timing for prediction\n",
        "start_predict_time = time.time()\n",
        "\n",
        "# Predict on the test set\n",
        "predictions = model.predict(X_test_combined)\n",
        "\n",
        "# End timing for prediction\n",
        "end_predict_time = time.time()\n",
        "\n",
        "# Calculate the elapsed time for prediction\n",
        "predict_elapsed_time = end_predict_time - start_predict_time\n",
        "print(f\"Time taken for prediction: {predict_elapsed_time:.4f} seconds\")\n",
        "\n",
        "# Evaluate and print the accuracy\n",
        "accuracy = accuracy_score(y_test_encoded, predictions)\n",
        "print(\"Accuracy on test set:\", accuracy)"
      ],
      "metadata": {
        "colab": {
          "base_uri": "https://localhost:8080/"
        },
        "id": "iZqVazlSFWpL",
        "outputId": "d26db016-0f43-422a-a943-71878c86fa75"
      },
      "execution_count": 26,
      "outputs": [
        {
          "output_type": "stream",
          "name": "stdout",
          "text": [
            "Time taken for prediction: 0.1408 seconds\n",
            "Accuracy on test set: 0.87575\n"
          ]
        }
      ]
    }
  ]
}